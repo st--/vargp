{
 "cells": [
  {
   "cell_type": "code",
   "execution_count": null,
   "metadata": {},
   "outputs": [],
   "source": [
    "import os\n",
    "import sys\n",
    "import numpy as np\n",
    "import torch\n",
    "from torch.utils.data import DataLoader\n",
    "import matplotlib.pyplot as plt\n",
    "import seaborn as sns\n",
    "import pandas as pd\n",
    "\n",
    "sns.set(font_scale=2, style='whitegrid')\n",
    "device = 'cuda' if torch.cuda.is_available() else 'cpu'\n",
    "save = False\n",
    "\n",
    "if os.path.abspath('..') not in sys.path:\n",
    "    sys.path.append(os.path.abspath('..'))"
   ]
  },
  {
   "cell_type": "code",
   "execution_count": null,
   "metadata": {},
   "outputs": [],
   "source": [
    "from var_gp.datasets import ToyDataset\n",
    "from var_gp.vargp import VARGP\n",
    "from var_gp.train_utils import set_seeds"
   ]
  },
  {
   "cell_type": "code",
   "execution_count": null,
   "metadata": {},
   "outputs": [],
   "source": [
    "set_seeds(1)\n",
    "\n",
    "toy_ds = ToyDataset()\n",
    "df = pd.DataFrame({ 'x': toy_ds.data[:, 0].numpy(), 'y': toy_ds.data[:, 1].numpy(), 'Class': toy_ds.targets.numpy() })\n",
    "\n",
    "fig, ax = plt.subplots(figsize=(9,9))\n",
    "sns.scatterplot(ax=ax, data=df, x='x', y='y', hue='Class', palette='Set2', s=200, edgecolor='black', linewidth=2)\n",
    "ax.set_xlabel('')\n",
    "ax.set_ylabel('')\n",
    "handles, labels = ax.get_legend_handles_labels()\n",
    "for h, l in zip(handles, labels):\n",
    "    h.set_edgecolor('black')\n",
    "    h.set_linewidth(2)\n",
    "    h.set_sizes([200])\n",
    "ax.legend(handles=handles, labels=labels, title='Class');\n",
    "# fig.savefig('toy_data.pdf', bbox_inches='tight')"
   ]
  },
  {
   "cell_type": "code",
   "execution_count": null,
   "metadata": {},
   "outputs": [],
   "source": [
    "grid_data = torch.cat([v.unsqueeze(-1) for v in torch.meshgrid([torch.arange(-3,3,0.1), torch.arange(-3,3,0.1)])], dim=-1).permute(1, 0, 2)\n",
    "\n",
    "def plot_task(preds):\n",
    "    out = preds.reshape(preds.size(0), *grid_data.shape[:-1], -1)\n",
    "\n",
    "    fig, axes = plt.subplots(2, 4, sharey=True, sharex=True, figsize=(40, 20))\n",
    "\n",
    "    for r in range(2):\n",
    "        for i in range(preds.size(-1)):\n",
    "            toy_ds.filter_by_class([i])\n",
    "\n",
    "            axes[r, i].contourf(out[r, ..., i], cmap=sns.color_palette(\"viridis\", as_cmap=True),\n",
    "                            extent=(-3,3,-3,3), origin='lower')\n",
    "            axes[r, i].set(aspect='equal')\n",
    "            axes[r, i].set_xlim(-3, 3)\n",
    "            axes[r, i].set_ylim(-3, 3)\n",
    "            axes[r, i].grid(False)\n",
    "            axes[r, i].set_xticks([])\n",
    "            axes[r, i].set_yticks([])\n",
    "            if r == 0:\n",
    "                axes[r, i].set_title(f'Class {i}', fontsize=75)\n",
    "\n",
    "            axes[r, i].scatter(toy_ds.data[toy_ds.task_ids][:, 0], toy_ds.data[toy_ds.task_ids][:, 1], \n",
    "                               marker='o', facecolor='red', s=400, edgecolor='black', linewidth=2)\n",
    "        \n",
    "        axes[r, 0].set_ylabel(f'After Task {r}', fontsize=75)\n",
    "\n",
    "    # Reset filter.\n",
    "    toy_ds.filter_by_class()\n",
    "\n",
    "    fig.tight_layout()\n",
    "    return fig, axes"
   ]
  },
  {
   "cell_type": "code",
   "execution_count": null,
   "metadata": {},
   "outputs": [],
   "source": [
    "run_dir = 'results/vargp-toy-seed1'\n",
    "\n",
    "prev_params = []\n",
    "preds = []\n",
    "for t in range(2):\n",
    "    with torch.no_grad():\n",
    "        cur_params = torch.load(f'{run_dir}/ckpt{t}.pt')\n",
    "        gp = VARGP.create_clf(toy_ds, M=20, n_f=100, n_var_samples=20, prev_params=prev_params).to(device)\n",
    "        gp.load_state_dict(cur_params)\n",
    "\n",
    "        preds.append(gp.predict(grid_data.reshape(-1, 2)))\n",
    "\n",
    "    prev_params.append(cur_params)\n",
    "\n",
    "preds = torch.cat([p.unsqueeze(0) for p in preds], axis=0)\n",
    "\n",
    "fig, _ = plot_task(preds)\n",
    "# fig.savefig(f'toy_vargp_density.pdf', bbox_inches='tight')"
   ]
  },
  {
   "cell_type": "code",
   "execution_count": null,
   "metadata": {},
   "outputs": [],
   "source": [
    "from var_gp.vargp_retrain import VARGPRetrain\n",
    "\n",
    "run_dir = 'results/re-vargp-toy'\n",
    "\n",
    "prev_params = []\n",
    "preds = []\n",
    "for t in range(2):\n",
    "    with torch.no_grad():\n",
    "        cur_params = torch.load(f'{run_dir}/ckpt{t}.pt')\n",
    "        gp = VARGPRetrain.create_clf(toy_ds, M=20, n_f=100, n_var_samples=20, prev_params=prev_params).to(device)\n",
    "        gp.load_state_dict(cur_params)\n",
    "\n",
    "        preds.append(gp.predict(grid_data.reshape(-1, 2)))\n",
    "\n",
    "    prev_params.append(cur_params)\n",
    "\n",
    "preds = torch.cat([p.unsqueeze(0) for p in preds], axis=0)\n",
    "\n",
    "fig, _ = plot_task(preds)\n",
    "# fig.savefig(f'toy_vargp_retrain_density.pdf', bbox_inches='tight')"
   ]
  },
  {
   "cell_type": "code",
   "execution_count": null,
   "metadata": {},
   "outputs": [],
   "source": [
    "pred_dump = 'results/vcl-toy-seed1'\n",
    "preds = []\n",
    "for t in range(2):\n",
    "    data = np.load(f'{pred_dump}/grid_pred_probs_{t}.npz')\n",
    "    preds.append(torch.from_numpy(np.squeeze(data['probs'], axis=-1).T).float())\n",
    "\n",
    "preds = torch.cat([p.unsqueeze(0) for p in preds], axis=0)\n",
    "\n",
    "fig, _ = plot_task(preds)\n",
    "# fig.savefig(f'toy_vcl_density.pdf', bbox_inches='tight')"
   ]
  },
  {
   "cell_type": "code",
   "execution_count": null,
   "metadata": {},
   "outputs": [],
   "source": []
  }
 ],
 "metadata": {
  "file_extension": ".py",
  "kernelspec": {
   "name": "python394jvsc74a57bd0f6f4ef2e4dfc72dba41423bb399455b0e2be86e7ec916ab82ad022c9707621b9",
   "display_name": "Python 3.9.4 64-bit ('var-gp': conda)"
  },
  "language_info": {
   "codemirror_mode": {
    "name": "ipython",
    "version": 3
   },
   "file_extension": ".py",
   "mimetype": "text/x-python",
   "name": "python",
   "nbconvert_exporter": "python",
   "pygments_lexer": "ipython3",
   "version": "3.9.4"
  },
  "mimetype": "text/x-python",
  "name": "python",
  "npconvert_exporter": "python",
  "pygments_lexer": "ipython3",
  "version": 3
 },
 "nbformat": 4,
 "nbformat_minor": 2
}